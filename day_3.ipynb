{
  "nbformat": 4,
  "nbformat_minor": 0,
  "metadata": {
    "colab": {
      "name": "day 3.ipynb",
      "provenance": [],
      "collapsed_sections": [],
      "authorship_tag": "ABX9TyM0oXaTp7HTCdLDjfNhmMij",
      "include_colab_link": true
    },
    "kernelspec": {
      "name": "python3",
      "display_name": "Python 3"
    }
  },
  "cells": [
    {
      "cell_type": "markdown",
      "metadata": {
        "id": "view-in-github",
        "colab_type": "text"
      },
      "source": [
        "<a href=\"https://colab.research.google.com/github/vinifred29/mashiya-s-LU-datascience-assignments/blob/main/day_3.ipynb\" target=\"_parent\"><img src=\"https://colab.research.google.com/assets/colab-badge.svg\" alt=\"Open In Colab\"/></a>"
      ]
    },
    {
      "cell_type": "code",
      "metadata": {
        "id": "-aotqCC9H6yP",
        "outputId": "a1d61060-cf70-4856-80b9-640fa966ec87",
        "colab": {
          "base_uri": "https://localhost:8080/"
        }
      },
      "source": [
        "import numpy as np\n",
        "ar= np.arange(2,53,3)\n",
        "ar"
      ],
      "execution_count": null,
      "outputs": [
        {
          "output_type": "execute_result",
          "data": {
            "text/plain": [
              "array([ 2,  5,  8, 11, 14, 17, 20, 23, 26, 29, 32, 35, 38, 41, 44, 47, 50])"
            ]
          },
          "metadata": {
            "tags": []
          },
          "execution_count": 1
        }
      ]
    },
    {
      "cell_type": "code",
      "metadata": {
        "id": "HKjLBwmXIoAF",
        "outputId": "67a0280e-9427-45de-c54b-339efc5e03fe",
        "colab": {
          "base_uri": "https://localhost:8080/"
        }
      },
      "source": [
        "A=[1,2,4,9,0]\n",
        "A1=[66,456,2,355,98]\n",
        "arr1=np.array(A)\n",
        "arr2=np.array(A1)\n",
        "print(arr1)\n",
        "print(arr2)\n",
        "a=np.concatenate((arr1,arr2))\n",
        "print(a)\n",
        "b=np.sort(a)\n",
        "print(b)"
      ],
      "execution_count": null,
      "outputs": [
        {
          "output_type": "stream",
          "text": [
            "[1 2 4 9 0]\n",
            "[ 66 456   2 355  98]\n",
            "[  1   2   4   9   0  66 456   2 355  98]\n",
            "[  0   1   2   2   4   9  66  98 355 456]\n"
          ],
          "name": "stdout"
        }
      ]
    },
    {
      "cell_type": "code",
      "metadata": {
        "id": "lNqWXg-VTyY5",
        "outputId": "153a90ce-32f5-4a8a-921b-6200d9084f01",
        "colab": {
          "base_uri": "https://localhost:8080/"
        }
      },
      "source": [
        "b=np.ndarray([4,6,2]) \n",
        "print(b)\n",
        "\n",
        "c=np.ndim(b)\n",
        "print(c)\n",
        "\n",
        "\n",
        "v=np.size(b)\n",
        "print(v)"
      ],
      "execution_count": null,
      "outputs": [
        {
          "output_type": "stream",
          "text": [
            "[[[2.60036315e-316 2.50626933e-316]\n",
            "  [2.50617684e-316 2.50629067e-316]\n",
            "  [2.50620530e-316 2.50624799e-316]\n",
            "  [0.00000000e+000 2.50634048e-316]\n",
            "  [2.50623376e-316 0.00000000e+000]\n",
            "  [2.54373295e-316 2.50619107e-316]]\n",
            "\n",
            " [[2.50633336e-316 2.50634759e-316]\n",
            "  [2.50625510e-316 2.50635471e-316]\n",
            "  [2.54375429e-316 2.50614838e-316]\n",
            "  [2.54377326e-316 0.00000000e+000]\n",
            "  [0.00000000e+000 0.00000000e+000]\n",
            "  [0.00000000e+000 0.00000000e+000]]\n",
            "\n",
            " [[2.54376615e-316 2.50641162e-316]\n",
            "  [2.50626222e-316 0.00000000e+000]\n",
            "  [0.00000000e+000 2.50639739e-316]\n",
            "  [0.00000000e+000 2.50615550e-316]\n",
            "  [2.50621953e-316 2.54374006e-316]\n",
            "  [2.50629779e-316 2.54374717e-316]]\n",
            "\n",
            " [[0.00000000e+000 0.00000000e+000]\n",
            "  [0.00000000e+000 0.00000000e+000]\n",
            "  [2.50619819e-316 3.18899217e-316]\n",
            "  [0.00000000e+000 0.00000000e+000]\n",
            "  [2.50632625e-316 0.00000000e+000]\n",
            "  [0.00000000e+000 0.00000000e+000]]]\n",
            "3\n",
            "48\n"
          ],
          "name": "stdout"
        }
      ]
    },
    {
      "cell_type": "code",
      "metadata": {
        "id": "MaXdsHxrUkod",
        "outputId": "b40d5300-9991-4274-bbb5-67f2dca73622",
        "colab": {
          "base_uri": "https://localhost:8080/"
        }
      },
      "source": [
        "ar.shape"
      ],
      "execution_count": null,
      "outputs": [
        {
          "output_type": "execute_result",
          "data": {
            "text/plain": [
              "(17,)"
            ]
          },
          "metadata": {
            "tags": []
          },
          "execution_count": 16
        }
      ]
    },
    {
      "cell_type": "code",
      "metadata": {
        "id": "5IV_McnWUuxL",
        "outputId": "63c437cd-a44b-4512-8a23-b4d1928558c8",
        "colab": {
          "base_uri": "https://localhost:8080/"
        }
      },
      "source": [
        "r= ar[np.newaxis, :]\n",
        "r.shape"
      ],
      "execution_count": null,
      "outputs": [
        {
          "output_type": "execute_result",
          "data": {
            "text/plain": [
              "(1, 17)"
            ]
          },
          "metadata": {
            "tags": []
          },
          "execution_count": 17
        }
      ]
    },
    {
      "cell_type": "code",
      "metadata": {
        "id": "JEBcim9wU5F0",
        "outputId": "7bd423e9-c94c-4dbd-9355-ce0a3bfab620",
        "colab": {
          "base_uri": "https://localhost:8080/"
        }
      },
      "source": [
        "r"
      ],
      "execution_count": null,
      "outputs": [
        {
          "output_type": "execute_result",
          "data": {
            "text/plain": [
              "array([[ 2,  5,  8, 11, 14, 17, 20, 23, 26, 29, 32, 35, 38, 41, 44, 47,\n",
              "        50]])"
            ]
          },
          "metadata": {
            "tags": []
          },
          "execution_count": 18
        }
      ]
    },
    {
      "cell_type": "code",
      "metadata": {
        "id": "2sw6QjtxVC8a",
        "outputId": "6fa6dc13-efe5-4647-ea8d-e80362269e27",
        "colab": {
          "base_uri": "https://localhost:8080/"
        }
      },
      "source": [
        "c= ar[:, np.newaxis]\n",
        "print(c.shape)\n",
        "\n",
        "c"
      ],
      "execution_count": null,
      "outputs": [
        {
          "output_type": "stream",
          "text": [
            "(17, 1)\n"
          ],
          "name": "stdout"
        },
        {
          "output_type": "execute_result",
          "data": {
            "text/plain": [
              "array([[ 2],\n",
              "       [ 5],\n",
              "       [ 8],\n",
              "       [11],\n",
              "       [14],\n",
              "       [17],\n",
              "       [20],\n",
              "       [23],\n",
              "       [26],\n",
              "       [29],\n",
              "       [32],\n",
              "       [35],\n",
              "       [38],\n",
              "       [41],\n",
              "       [44],\n",
              "       [47],\n",
              "       [50]])"
            ]
          },
          "metadata": {
            "tags": []
          },
          "execution_count": 21
        }
      ]
    },
    {
      "cell_type": "code",
      "metadata": {
        "id": "u0z7VdJ-V8m8",
        "outputId": "58f50c01-34fb-4012-98b1-76cefc7ef02b",
        "colab": {
          "base_uri": "https://localhost:8080/"
        }
      },
      "source": [
        "print(ar)\n",
        "\n",
        "print(np.ndim(ar))\n",
        "\n",
        "ar2 = np.expand_dims(ar, axis=(1,-2,3))\n",
        "print(ar2.shape)"
      ],
      "execution_count": null,
      "outputs": [
        {
          "output_type": "stream",
          "text": [
            "[ 2  5  8 11 14 17 20 23 26 29 32 35 38 41 44 47 50]\n",
            "1\n",
            "(17, 1, 1, 1)\n"
          ],
          "name": "stdout"
        }
      ]
    }
  ]
}